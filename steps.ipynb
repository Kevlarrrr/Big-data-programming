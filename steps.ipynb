{
 "cells": [
  {
   "cell_type": "code",
   "execution_count": 73,
   "id": "initial_id",
   "metadata": {
    "ExecuteTime": {
     "end_time": "2025-03-14T17:22:25.741414Z",
     "start_time": "2025-03-14T17:22:24.531024Z"
    }
   },
   "outputs": [],
   "source": [
    "import pandas as pd\n",
    "import time "
   ]
  },
  {
   "cell_type": "code",
   "execution_count": 74,
   "id": "8b9fa595",
   "metadata": {},
   "outputs": [],
   "source": [
    "start_timeoverall = time.time()"
   ]
  },
  {
   "cell_type": "markdown",
   "id": "8681d6f0",
   "metadata": {},
   "source": [
    "#1 loading csv file "
   ]
  },
  {
   "cell_type": "code",
   "execution_count": 75,
   "id": "54af136d",
   "metadata": {},
   "outputs": [
    {
     "name": "stdout",
     "output_type": "stream",
     "text": [
      "Elapsed time: 8.301466464996338 seconds\n"
     ]
    }
   ],
   "source": [
    "start_time1 = time.time()\n",
    "df = pd.read_csv(\"beer_reviews.csv\")\n",
    "end_time1 = time.time()\n",
    "elapsed_time1 = end_time1 - start_time1\n",
    "print(f\"Elapsed time: {elapsed_time1} seconds\")"
   ]
  },
  {
   "cell_type": "markdown",
   "id": "679e2142",
   "metadata": {},
   "source": [
    "#2 which beer style is rated highest review overall"
   ]
  },
  {
   "cell_type": "code",
   "execution_count": 76,
   "id": "f3180c39",
   "metadata": {},
   "outputs": [
    {
     "name": "stdout",
     "output_type": "stream",
     "text": [
      "Elapsed time: 0.007969141006469727 seconds\n"
     ]
    }
   ],
   "source": [
    "start_time2 = time.time()\n",
    "highest_review = df.loc[df['review_overall'].idxmax()]\n",
    "end_time2 = time.time()\n",
    "elapsed_time2 = end_time2 - start_time2\n",
    "print(f\"Elapsed time: {elapsed_time2} seconds\")"
   ]
  },
  {
   "cell_type": "markdown",
   "id": "788f2a07",
   "metadata": {},
   "source": [
    "#3 Best beer per brewery"
   ]
  },
  {
   "cell_type": "code",
   "execution_count": 82,
   "id": "b3f9e9ea",
   "metadata": {},
   "outputs": [
    {
     "name": "stdout",
     "output_type": "stream",
     "text": [
      "Elapsed time: 0.6843822002410889 seconds\n"
     ]
    }
   ],
   "source": [
    "start_time3 = time.time()\n",
    "best_beer_per_brewery = df.sort_values(by=\"review_overall\",ascending=False).groupby(\"brewery_name\").head(1)\n",
    "end_time3 = time.time()\n",
    "elapsed_time3 = end_time3 - start_time3\n",
    "print(f\"Elapsed time: {elapsed_time3} seconds\")"
   ]
  },
  {
   "cell_type": "markdown",
   "id": "5e2fbebc",
   "metadata": {},
   "source": [
    "#4 Average review_overall Score per Brewery and Identify the Top 5 Breweries"
   ]
  },
  {
   "cell_type": "code",
   "execution_count": 78,
   "id": "792f47ca",
   "metadata": {},
   "outputs": [
    {
     "name": "stdout",
     "output_type": "stream",
     "text": [
      "Elapsed time: 0.11928606033325195 seconds\n"
     ]
    }
   ],
   "source": [
    "start_time4 = time.time()\n",
    "average_reviews_per_brewery = df.groupby('brewery_id')['review_overall'].mean().reset_index()\n",
    "\n",
    "\n",
    "average_reviews_per_brewery.columns = ['brewery_id', 'avg_review_overall']\n",
    "\n",
    "sorted_breweries = average_reviews_per_brewery.sort_values(by='avg_review_overall', ascending=False)\n",
    "\n",
    "top_n = 10\n",
    "top_breweries = sorted_breweries.head(top_n)\n",
    "end_time4 = time.time()\n",
    "elapsed_time4 = end_time4 - start_time4\n",
    "print(f\"Elapsed time: {elapsed_time4} seconds\")"
   ]
  },
  {
   "cell_type": "markdown",
   "id": "fd1fb008",
   "metadata": {},
   "source": [
    "#5 most reviewed beer styles"
   ]
  },
  {
   "cell_type": "code",
   "execution_count": 79,
   "id": "4fc7f550",
   "metadata": {},
   "outputs": [
    {
     "name": "stdout",
     "output_type": "stream",
     "text": [
      "                          beer_style  review_count\n",
      "12                      American IPA        113144\n",
      "9     American Double / Imperial IPA         85105\n",
      "14           American Pale Ale (APA)         58072\n",
      "89            Russian Imperial Stout         53424\n",
      "11  American Double / Imperial Stout         50137\n",
      "17                   American Porter         46647\n",
      "2           American Amber / Red Ale         41731\n",
      "25           Belgian Strong Dark Ale         37498\n",
      "60            Fruit / Vegetable Beer         31983\n",
      "19               American Strong Ale         31350\n",
      "Elapsed time: 0.3446388244628906 seconds\n"
     ]
    }
   ],
   "source": [
    "start_time5 = time.time()\n",
    "most_reviewed_styles = df.groupby('beer_style').size().reset_index(name='review_count')\n",
    "most_reviewed_styles = most_reviewed_styles.sort_values(by='review_count', ascending=False)\n",
    "top_n = 10\n",
    "print(most_reviewed_styles.head(top_n))\n",
    "end_time5 = time.time()\n",
    "elapsed_time5 = end_time5 - start_time5\n",
    "print(f\"Elapsed time: {elapsed_time5} seconds\")"
   ]
  },
  {
   "cell_type": "markdown",
   "id": "86bf0726",
   "metadata": {},
   "source": [
    "#6 Identify the Most Polarizing Beers Based on review_aroma"
   ]
  },
  {
   "cell_type": "code",
   "execution_count": 80,
   "id": "5ba790d5",
   "metadata": {},
   "outputs": [
    {
     "name": "stdout",
     "output_type": "stream",
     "text": [
      "Elapsed time: 0.3502333164215088 seconds\n",
      "Most polarizing beers based on aroma:\n",
      "                beer_style  review_aroma\n",
      "34              Chile Beer      0.869402\n",
      "13    American Malt Liquor      0.722922\n",
      "77        Low Alcohol Beer      0.722384\n",
      "60  Fruit / Vegetable Beer      0.631992\n",
      "76             Light Lager      0.608401\n",
      "72                   Kvass      0.582146\n",
      "64                Happoshu      0.579525\n",
      "54       Euro Strong Lager      0.563096\n",
      "1   American Adjunct Lager      0.512103\n",
      "15     American Pale Lager      0.496376\n"
     ]
    }
   ],
   "source": [
    "start_time6 = time.time()\n",
    "variance_aroma_by_beer = df.groupby('beer_style')['review_aroma'].var().reset_index()\n",
    "\n",
    "\n",
    "variance_aroma_by_beer.columns = ['beer_style', 'review_aroma']\n",
    "\n",
    "most_polarizing_beers = variance_aroma_by_beer.sort_values(by='review_aroma', ascending=False)\n",
    "\n",
    "\n",
    "top_n = 10\n",
    "end_time6 = time.time()\n",
    "elapsed_time6 = end_time6 - start_time6\n",
    "print(f\"Elapsed time: {elapsed_time6} seconds\")\n",
    "print(\"Most polarizing beers based on aroma:\")\n",
    "print(most_polarizing_beers.head(top_n))"
   ]
  },
  {
   "cell_type": "code",
   "execution_count": 81,
   "id": "76f3edaf",
   "metadata": {},
   "outputs": [
    {
     "name": "stdout",
     "output_type": "stream",
     "text": [
      "Elapsed time: 10.206066370010376 seconds\n"
     ]
    }
   ],
   "source": [
    "end_timeoverall = time.time()\n",
    "elapsed_time = end_timeoverall - start_timeoverall\n",
    "print(f\"Elapsed time: {elapsed_time} seconds\")"
   ]
  }
 ],
 "metadata": {
  "kernelspec": {
   "display_name": "Python 3 (ipykernel)",
   "language": "python",
   "name": "python3"
  },
  "language_info": {
   "codemirror_mode": {
    "name": "ipython",
    "version": 3
   },
   "file_extension": ".py",
   "mimetype": "text/x-python",
   "name": "python",
   "nbconvert_exporter": "python",
   "pygments_lexer": "ipython3",
   "version": "3.9.13"
  }
 },
 "nbformat": 4,
 "nbformat_minor": 5
}
